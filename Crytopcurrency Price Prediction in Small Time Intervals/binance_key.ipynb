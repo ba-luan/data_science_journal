{
 "cells": [
  {
   "cell_type": "code",
   "execution_count": null,
   "id": "0b9ab74b-0370-49af-8cf6-e6cce5e9be39",
   "metadata": {},
   "outputs": [],
   "source": [
    "api_key = \"INSERT API KEY HERE\"\n",
    "security_key = \"INSERT SECURITY KEY HERE\""
   ]
  }
 ],
 "metadata": {
  "kernelspec": {
   "display_name": "Python 3 (ipykernel)",
   "language": "python",
   "name": "python3"
  },
  "language_info": {
   "codemirror_mode": {
    "name": "ipython",
    "version": 3
   },
   "file_extension": ".py",
   "mimetype": "text/x-python",
   "name": "python",
   "nbconvert_exporter": "python",
   "pygments_lexer": "ipython3",
   "version": "3.8.12"
  }
 },
 "nbformat": 4,
 "nbformat_minor": 5
}

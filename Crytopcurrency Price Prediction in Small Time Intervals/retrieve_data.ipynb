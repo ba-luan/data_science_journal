{
 "cells": [
  {
   "cell_type": "code",
   "execution_count": null,
   "id": "8e1593fa-ab42-4c03-bd35-056f6a5f3995",
   "metadata": {},
   "outputs": [],
   "source": [
    "%run ./binance_key.ipynb"
   ]
  },
  {
   "cell_type": "code",
   "execution_count": null,
   "id": "8cc8b993-3ca0-46bc-9349-e54a0c861f22",
   "metadata": {},
   "outputs": [],
   "source": [
    "import pandas as pd\n",
    "import sqlalchemy\n",
    "from binance import Client\n"
   ]
  },
  {
   "cell_type": "code",
   "execution_count": null,
   "id": "91c3c50c-dd27-41e2-8826-320d51c9f9d2",
   "metadata": {},
   "outputs": [],
   "source": [
    "client = Client(api_key, security_key)"
   ]
  },
  {
   "cell_type": "code",
   "execution_count": null,
   "id": "5988d986-9ea1-48e7-b566-e7421fc178b9",
   "metadata": {
    "tags": []
   },
   "outputs": [],
   "source": [
    "engine = sqlalchemy.create_engine('sqlite:///binance_1m_prices_1month')"
   ]
  },
  {
   "cell_type": "code",
   "execution_count": null,
   "id": "bc40a3fe-4d6a-4b81-a845-40d13b7e1963",
   "metadata": {
    "tags": []
   },
   "outputs": [],
   "source": [
    "from_time = '1 Oct 2021'\n",
    "to_time = '1 Nov 2021'\n",
    "crypto_pairs = ['BTCUSDT', 'ETHUSDT', 'XRPUSDT', 'UNIUSDT']\n",
    "interval = '1m'"
   ]
  },
  {
   "cell_type": "code",
   "execution_count": null,
   "id": "c4a8914d-dc8f-4453-bc8c-887d872ecba3",
   "metadata": {},
   "outputs": [],
   "source": [
    "def retrieve_data(pairs, from_time, to_time, interval, engine):\n",
    "    for pair in pairs:\n",
    "        df = client.get_historical_klines(pair, interval, from_time, to_time)\n",
    "        df = pd.DataFrame(df)\n",
    "        df = df.iloc[:, :6]\n",
    "        df.rename(columns={0:'time', 1:'open', 2:'high', 3:'low', 4:'close', 5:'volume'}, inplace=True)\n",
    "        df.set_index('time', inplace=True)\n",
    "        df = df.astype(float)\n",
    "        df.to_sql(pair, engine, if_exists='replace')\n",
    "        print(pair, \"Completed!\")"
   ]
  },
  {
   "cell_type": "code",
   "execution_count": null,
   "id": "01f94739-51c8-41d8-a043-e79be5183c5c",
   "metadata": {
    "tags": []
   },
   "outputs": [],
   "source": [
    "retrieve_data(crypto_pairs, from_time, to_time, interval, engine)"
   ]
  }
 ],
 "metadata": {
  "kernelspec": {
   "display_name": "Python 3 (ipykernel)",
   "language": "python",
   "name": "python3"
  },
  "language_info": {
   "codemirror_mode": {
    "name": "ipython",
    "version": 3
   },
   "file_extension": ".py",
   "mimetype": "text/x-python",
   "name": "python",
   "nbconvert_exporter": "python",
   "pygments_lexer": "ipython3",
   "version": "3.8.12"
  }
 },
 "nbformat": 4,
 "nbformat_minor": 5
}

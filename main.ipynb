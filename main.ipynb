{
 "cells": [
  {
   "cell_type": "code",
   "execution_count": 1,
   "id": "461d1700-9a68-4b0c-9526-ed6441d0a7b6",
   "metadata": {},
   "outputs": [],
   "source": [
    "#pip install nltk"
   ]
  },
  {
   "cell_type": "code",
   "execution_count": 2,
   "id": "304e8a47-de6b-4380-934f-9541ee13f5b3",
   "metadata": {},
   "outputs": [],
   "source": [
    "import pandas as pd\n",
    "import random\n",
    "import string\n",
    "import nltk\n",
    "from nltk.tokenize import WhitespaceTokenizer\n",
    "from nltk.corpus import stopwords\n",
    "from nltk import classify\n",
    "from nltk import NaiveBayesClassifier"
   ]
  },
  {
   "cell_type": "markdown",
   "id": "7dc51aed-f31e-4dd6-970b-69baa1a35e9e",
   "metadata": {},
   "source": [
    "# Data Preparation."
   ]
  },
  {
   "cell_type": "code",
   "execution_count": 3,
   "id": "f8816012-ac7f-4f1e-84ec-a8ea1bcd69f7",
   "metadata": {},
   "outputs": [
    {
     "data": {
      "text/html": [
       "<div>\n",
       "<style scoped>\n",
       "    .dataframe tbody tr th:only-of-type {\n",
       "        vertical-align: middle;\n",
       "    }\n",
       "\n",
       "    .dataframe tbody tr th {\n",
       "        vertical-align: top;\n",
       "    }\n",
       "\n",
       "    .dataframe thead th {\n",
       "        text-align: right;\n",
       "    }\n",
       "</style>\n",
       "<table border=\"1\" class=\"dataframe\">\n",
       "  <thead>\n",
       "    <tr style=\"text-align: right;\">\n",
       "      <th></th>\n",
       "      <th>Unnamed: 0</th>\n",
       "      <th>reviewerID</th>\n",
       "      <th>asin</th>\n",
       "      <th>reviewerName</th>\n",
       "      <th>helpful</th>\n",
       "      <th>reviewText</th>\n",
       "      <th>overall</th>\n",
       "      <th>summary</th>\n",
       "      <th>unixReviewTime</th>\n",
       "      <th>reviewTime</th>\n",
       "    </tr>\n",
       "  </thead>\n",
       "  <tbody>\n",
       "    <tr>\n",
       "      <th>0</th>\n",
       "      <td>0</td>\n",
       "      <td>A3EBHHCZO6V2A4</td>\n",
       "      <td>5555991584</td>\n",
       "      <td>Amaranth \"music fan\"</td>\n",
       "      <td>[3, 3]</td>\n",
       "      <td>It's hard to believe \"Memory of Trees\" came ou...</td>\n",
       "      <td>5.0</td>\n",
       "      <td>Enya's last great album</td>\n",
       "      <td>1158019200</td>\n",
       "      <td>09 12, 2006</td>\n",
       "    </tr>\n",
       "    <tr>\n",
       "      <th>1</th>\n",
       "      <td>1</td>\n",
       "      <td>AZPWAXJG9OJXV</td>\n",
       "      <td>5555991584</td>\n",
       "      <td>bethtexas</td>\n",
       "      <td>[0, 0]</td>\n",
       "      <td>A clasically-styled and introverted album, Mem...</td>\n",
       "      <td>5.0</td>\n",
       "      <td>Enya at her most elegant</td>\n",
       "      <td>991526400</td>\n",
       "      <td>06 3, 2001</td>\n",
       "    </tr>\n",
       "    <tr>\n",
       "      <th>2</th>\n",
       "      <td>2</td>\n",
       "      <td>A38IRL0X2T4DPF</td>\n",
       "      <td>5555991584</td>\n",
       "      <td>bob turnley</td>\n",
       "      <td>[2, 2]</td>\n",
       "      <td>I never thought Enya would reach the sublime h...</td>\n",
       "      <td>5.0</td>\n",
       "      <td>The best so far</td>\n",
       "      <td>1058140800</td>\n",
       "      <td>07 14, 2003</td>\n",
       "    </tr>\n",
       "    <tr>\n",
       "      <th>3</th>\n",
       "      <td>3</td>\n",
       "      <td>A22IK3I6U76GX0</td>\n",
       "      <td>5555991584</td>\n",
       "      <td>Calle</td>\n",
       "      <td>[1, 1]</td>\n",
       "      <td>This is the third review of an irish album I w...</td>\n",
       "      <td>5.0</td>\n",
       "      <td>Ireland produces good music.</td>\n",
       "      <td>957312000</td>\n",
       "      <td>05 3, 2000</td>\n",
       "    </tr>\n",
       "    <tr>\n",
       "      <th>4</th>\n",
       "      <td>4</td>\n",
       "      <td>A1AISPOIIHTHXX</td>\n",
       "      <td>5555991584</td>\n",
       "      <td>Cloud \"...\"</td>\n",
       "      <td>[1, 1]</td>\n",
       "      <td>Enya, despite being a successful recording art...</td>\n",
       "      <td>4.0</td>\n",
       "      <td>4.5; music to dream to</td>\n",
       "      <td>1200528000</td>\n",
       "      <td>01 17, 2008</td>\n",
       "    </tr>\n",
       "  </tbody>\n",
       "</table>\n",
       "</div>"
      ],
      "text/plain": [
       "   Unnamed: 0      reviewerID        asin          reviewerName helpful  \\\n",
       "0           0  A3EBHHCZO6V2A4  5555991584  Amaranth \"music fan\"  [3, 3]   \n",
       "1           1   AZPWAXJG9OJXV  5555991584             bethtexas  [0, 0]   \n",
       "2           2  A38IRL0X2T4DPF  5555991584           bob turnley  [2, 2]   \n",
       "3           3  A22IK3I6U76GX0  5555991584                 Calle  [1, 1]   \n",
       "4           4  A1AISPOIIHTHXX  5555991584           Cloud \"...\"  [1, 1]   \n",
       "\n",
       "                                          reviewText  overall  \\\n",
       "0  It's hard to believe \"Memory of Trees\" came ou...      5.0   \n",
       "1  A clasically-styled and introverted album, Mem...      5.0   \n",
       "2  I never thought Enya would reach the sublime h...      5.0   \n",
       "3  This is the third review of an irish album I w...      5.0   \n",
       "4  Enya, despite being a successful recording art...      4.0   \n",
       "\n",
       "                        summary  unixReviewTime   reviewTime  \n",
       "0       Enya's last great album      1158019200  09 12, 2006  \n",
       "1      Enya at her most elegant       991526400   06 3, 2001  \n",
       "2               The best so far      1058140800  07 14, 2003  \n",
       "3  Ireland produces good music.       957312000   05 3, 2000  \n",
       "4        4.5; music to dream to      1200528000  01 17, 2008  "
      ]
     },
     "execution_count": 3,
     "metadata": {},
     "output_type": "execute_result"
    }
   ],
   "source": [
    "df = pd.read_csv(\"reviews_Digital_Music_5.json.gz.csv\")\n",
    "df.head()"
   ]
  },
  {
   "cell_type": "code",
   "execution_count": 4,
   "id": "9882eb95-31db-49a6-a2fe-a56bb4c41565",
   "metadata": {},
   "outputs": [
    {
     "name": "stdout",
     "output_type": "stream",
     "text": [
      "<class 'pandas.core.frame.DataFrame'>\n",
      "RangeIndex: 64706 entries, 0 to 64705\n",
      "Data columns (total 10 columns):\n",
      " #   Column          Non-Null Count  Dtype  \n",
      "---  ------          --------------  -----  \n",
      " 0   Unnamed: 0      64706 non-null  int64  \n",
      " 1   reviewerID      64706 non-null  object \n",
      " 2   asin            64706 non-null  object \n",
      " 3   reviewerName    64529 non-null  object \n",
      " 4   helpful         64706 non-null  object \n",
      " 5   reviewText      64705 non-null  object \n",
      " 6   overall         64706 non-null  float64\n",
      " 7   summary         64706 non-null  object \n",
      " 8   unixReviewTime  64706 non-null  int64  \n",
      " 9   reviewTime      64706 non-null  object \n",
      "dtypes: float64(1), int64(2), object(7)\n",
      "memory usage: 4.9+ MB\n"
     ]
    }
   ],
   "source": [
    "df.info()"
   ]
  },
  {
   "cell_type": "markdown",
   "id": "7280b8e5-cbbe-4165-a4d3-89a44be27687",
   "metadata": {},
   "source": [
    "Drop all columns that we don't need in the analysis."
   ]
  },
  {
   "cell_type": "code",
   "execution_count": 5,
   "id": "988869ab-51c9-4565-90b1-c247bc66c07e",
   "metadata": {},
   "outputs": [],
   "source": [
    "df.drop(labels=['Unnamed: 0', 'reviewerID', 'reviewerName', 'helpful', 'unixReviewTime', 'reviewTime'],\n",
    "        axis='columns', inplace=True)"
   ]
  },
  {
   "cell_type": "code",
   "execution_count": 6,
   "id": "15d99c13-1959-4207-8748-68bd004af68f",
   "metadata": {},
   "outputs": [
    {
     "data": {
      "text/html": [
       "<div>\n",
       "<style scoped>\n",
       "    .dataframe tbody tr th:only-of-type {\n",
       "        vertical-align: middle;\n",
       "    }\n",
       "\n",
       "    .dataframe tbody tr th {\n",
       "        vertical-align: top;\n",
       "    }\n",
       "\n",
       "    .dataframe thead th {\n",
       "        text-align: right;\n",
       "    }\n",
       "</style>\n",
       "<table border=\"1\" class=\"dataframe\">\n",
       "  <thead>\n",
       "    <tr style=\"text-align: right;\">\n",
       "      <th></th>\n",
       "      <th>asin</th>\n",
       "      <th>reviewText</th>\n",
       "      <th>overall</th>\n",
       "      <th>summary</th>\n",
       "    </tr>\n",
       "  </thead>\n",
       "  <tbody>\n",
       "    <tr>\n",
       "      <th>0</th>\n",
       "      <td>5555991584</td>\n",
       "      <td>It's hard to believe \"Memory of Trees\" came ou...</td>\n",
       "      <td>5.0</td>\n",
       "      <td>Enya's last great album</td>\n",
       "    </tr>\n",
       "    <tr>\n",
       "      <th>1</th>\n",
       "      <td>5555991584</td>\n",
       "      <td>A clasically-styled and introverted album, Mem...</td>\n",
       "      <td>5.0</td>\n",
       "      <td>Enya at her most elegant</td>\n",
       "    </tr>\n",
       "    <tr>\n",
       "      <th>2</th>\n",
       "      <td>5555991584</td>\n",
       "      <td>I never thought Enya would reach the sublime h...</td>\n",
       "      <td>5.0</td>\n",
       "      <td>The best so far</td>\n",
       "    </tr>\n",
       "    <tr>\n",
       "      <th>3</th>\n",
       "      <td>5555991584</td>\n",
       "      <td>This is the third review of an irish album I w...</td>\n",
       "      <td>5.0</td>\n",
       "      <td>Ireland produces good music.</td>\n",
       "    </tr>\n",
       "    <tr>\n",
       "      <th>4</th>\n",
       "      <td>5555991584</td>\n",
       "      <td>Enya, despite being a successful recording art...</td>\n",
       "      <td>4.0</td>\n",
       "      <td>4.5; music to dream to</td>\n",
       "    </tr>\n",
       "  </tbody>\n",
       "</table>\n",
       "</div>"
      ],
      "text/plain": [
       "         asin                                         reviewText  overall  \\\n",
       "0  5555991584  It's hard to believe \"Memory of Trees\" came ou...      5.0   \n",
       "1  5555991584  A clasically-styled and introverted album, Mem...      5.0   \n",
       "2  5555991584  I never thought Enya would reach the sublime h...      5.0   \n",
       "3  5555991584  This is the third review of an irish album I w...      5.0   \n",
       "4  5555991584  Enya, despite being a successful recording art...      4.0   \n",
       "\n",
       "                        summary  \n",
       "0       Enya's last great album  \n",
       "1      Enya at her most elegant  \n",
       "2               The best so far  \n",
       "3  Ireland produces good music.  \n",
       "4        4.5; music to dream to  "
      ]
     },
     "execution_count": 6,
     "metadata": {},
     "output_type": "execute_result"
    }
   ],
   "source": [
    "df.head()"
   ]
  },
  {
   "cell_type": "markdown",
   "id": "664f428a-cf68-442a-aabd-c61ce5a7ee41",
   "metadata": {},
   "source": [
    "The overall score is from 1 to 5; we should check the percentage of each score in the dataset."
   ]
  },
  {
   "cell_type": "code",
   "execution_count": 7,
   "id": "04878558-fd5f-49ef-8090-31726844e7f9",
   "metadata": {},
   "outputs": [
    {
     "data": {
      "text/plain": [
       "5.0    0.549872\n",
       "4.0    0.255556\n",
       "3.0    0.104921\n",
       "2.0    0.046518\n",
       "1.0    0.043134\n",
       "Name: overall, dtype: float64"
      ]
     },
     "execution_count": 7,
     "metadata": {},
     "output_type": "execute_result"
    }
   ],
   "source": [
    "df['overall'].value_counts(normalize=True)"
   ]
  },
  {
   "cell_type": "markdown",
   "id": "060dcb7b-ffe3-4667-bcf6-a8b4a0a30d92",
   "metadata": {},
   "source": [
    "Print out the review text of the first review."
   ]
  },
  {
   "cell_type": "code",
   "execution_count": 8,
   "id": "7ce6e931-3675-4a2a-aaf0-0d8ad9d3ac2d",
   "metadata": {},
   "outputs": [
    {
     "data": {
      "text/plain": [
       "'It\\'s hard to believe \"Memory of Trees\" came out 11 years ago;it has held up well over the passage of time.It\\'s Enya\\'s last great album before the New Age/pop of \"Amarantine\" and \"Day without rain.\" Back in 1995,Enya still had her creative spark,her own voice.I agree with the reviewer who said that this is her saddest album;it is melancholy,bittersweet,from the opening title song.\"Memory of Trees\" is elegaic&majestic.;\"Pax Deorum\" sounds like it is from a Requiem Mass,it is a dark threnody.Unlike the reviewer who said that this has a \"disconcerting\" blend of spirituality&sensuality;,I don\\'t find it disconcerting at all.\"Anywhere is\" is a hopeful song,looking to possibilities.\"Hope has a place\" is about love,but it is up to the listener to decide if it is romantic,platonic,etc.I\\'ve always had a soft spot for this song.\"On my way home\" is a triumphant ending about return.This is truly a masterpiece of New Age music,a must for any Enya fan!'"
      ]
     },
     "execution_count": 8,
     "metadata": {},
     "output_type": "execute_result"
    }
   ],
   "source": [
    "df.iloc[0,1]"
   ]
  },
  {
   "cell_type": "markdown",
   "id": "38c31161-90e4-42cf-b67e-b75eb5757ba0",
   "metadata": {},
   "source": [
    "Print out the summary text of the first review."
   ]
  },
  {
   "cell_type": "code",
   "execution_count": 9,
   "id": "da71cd65-c6b7-4d71-8908-a83f4f8ed35e",
   "metadata": {},
   "outputs": [
    {
     "data": {
      "text/plain": [
       "\"Enya's last great album\""
      ]
     },
     "execution_count": 9,
     "metadata": {},
     "output_type": "execute_result"
    }
   ],
   "source": [
    "df.iloc[0,3]"
   ]
  },
  {
   "cell_type": "markdown",
   "id": "d6e0adad-2830-4dcc-93da-221151b31246",
   "metadata": {},
   "source": [
    "Combine the review text and summary into one text."
   ]
  },
  {
   "cell_type": "code",
   "execution_count": 10,
   "id": "0e241b1b-df2f-47e4-ac8e-7315f46f6bc8",
   "metadata": {},
   "outputs": [
    {
     "name": "stdout",
     "output_type": "stream",
     "text": [
      "<class 'pandas.core.frame.DataFrame'>\n",
      "Int64Index: 64705 entries, 0 to 64705\n",
      "Data columns (total 3 columns):\n",
      " #   Column      Non-Null Count  Dtype  \n",
      "---  ------      --------------  -----  \n",
      " 0   asin        64705 non-null  object \n",
      " 1   reviewText  64705 non-null  object \n",
      " 2   overall     64705 non-null  float64\n",
      "dtypes: float64(1), object(2)\n",
      "memory usage: 2.0+ MB\n"
     ]
    }
   ],
   "source": [
    "df['reviewText'] = df['reviewText'] + ' ' + df['summary']\n",
    "df.drop(labels=['summary'], axis='columns', inplace=True)\n",
    "df.dropna(inplace=True)\n",
    "df.info()"
   ]
  },
  {
   "cell_type": "markdown",
   "id": "5babd314-f8f5-468d-b9fd-87f4a061b919",
   "metadata": {},
   "source": [
    "We label the sentiment for each review in the dataset. For the overall score of 4 or 5, the sentiment is 'positive'. For the overall score of 2 or 1, the sentiment is 'negative'; if overall score equals to 3, the sentiment is 'neutral'."
   ]
  },
  {
   "cell_type": "code",
   "execution_count": 11,
   "id": "62050541-d6bc-4fdd-a564-bb0e1ef9c77e",
   "metadata": {},
   "outputs": [],
   "source": [
    "df.loc[df['overall'] >= 4, 'sentiment'] = 'positive'\n",
    "df.loc[df['overall'] <= 2, 'sentiment'] = 'negative'\n",
    "df.loc[df['overall'] == 3, 'sentiment'] = 'neutral'"
   ]
  },
  {
   "cell_type": "markdown",
   "id": "eece2cd9-6cd9-4d36-a715-58761ac6573c",
   "metadata": {},
   "source": [
    "We do not need the neutral sentiment in the analysis because opinions of some people may incline toward positive sentiment but they still rate the product at 3. It is also the same in case of negative-inclined opinions. So neutral sentiment is quite ambiguous."
   ]
  },
  {
   "cell_type": "code",
   "execution_count": 12,
   "id": "5bac90dd-f9d8-43dd-8ada-cf689c5dfcb7",
   "metadata": {},
   "outputs": [],
   "source": [
    "train_dataset = df[df['sentiment'] != 'neutral']"
   ]
  },
  {
   "cell_type": "code",
   "execution_count": 13,
   "id": "96d29b56-703f-45ab-b160-ea36ba5c7869",
   "metadata": {},
   "outputs": [
    {
     "data": {
      "text/plain": [
       "positive    52116\n",
       "negative     5801\n",
       "Name: sentiment, dtype: int64"
      ]
     },
     "execution_count": 13,
     "metadata": {},
     "output_type": "execute_result"
    }
   ],
   "source": [
    "train_dataset['sentiment'].value_counts()"
   ]
  },
  {
   "cell_type": "markdown",
   "id": "fdb7cdba-9338-442b-ba53-94393efdce17",
   "metadata": {},
   "source": [
    "There is imbalance between two labels, the negative sentiment are equivalent to 10% of the positive sentiment. We will use the lesser sentiment as the number of samples."
   ]
  },
  {
   "cell_type": "code",
   "execution_count": 14,
   "id": "56932f87-823f-4f4f-99ad-893e1b1cb497",
   "metadata": {},
   "outputs": [
    {
     "data": {
      "text/plain": [
       "5801"
      ]
     },
     "execution_count": 14,
     "metadata": {},
     "output_type": "execute_result"
    }
   ],
   "source": [
    "sample_number = min(train_dataset['sentiment'].value_counts())\n",
    "sample_number"
   ]
  },
  {
   "cell_type": "markdown",
   "id": "c4cb6b68-2a59-4b5a-b817-d73146a0ed4b",
   "metadata": {},
   "source": [
    "Sampling for both labels."
   ]
  },
  {
   "cell_type": "code",
   "execution_count": 15,
   "id": "f7512bad-191e-42ca-b3c0-bd410de08af5",
   "metadata": {},
   "outputs": [
    {
     "data": {
      "text/plain": [
       "negative    5801\n",
       "positive    5801\n",
       "Name: sentiment, dtype: int64"
      ]
     },
     "execution_count": 15,
     "metadata": {},
     "output_type": "execute_result"
    }
   ],
   "source": [
    "train_dataset = train_dataset.groupby('sentiment').apply(lambda x: x.sample(n=sample_number)).reset_index(drop=True)\n",
    "train_dataset['sentiment'].value_counts()"
   ]
  },
  {
   "cell_type": "code",
   "execution_count": 16,
   "id": "1c28e2c3-4377-4071-ae54-86f1d1d66141",
   "metadata": {},
   "outputs": [
    {
     "data": {
      "text/html": [
       "<div>\n",
       "<style scoped>\n",
       "    .dataframe tbody tr th:only-of-type {\n",
       "        vertical-align: middle;\n",
       "    }\n",
       "\n",
       "    .dataframe tbody tr th {\n",
       "        vertical-align: top;\n",
       "    }\n",
       "\n",
       "    .dataframe thead th {\n",
       "        text-align: right;\n",
       "    }\n",
       "</style>\n",
       "<table border=\"1\" class=\"dataframe\">\n",
       "  <thead>\n",
       "    <tr style=\"text-align: right;\">\n",
       "      <th></th>\n",
       "      <th>asin</th>\n",
       "      <th>reviewText</th>\n",
       "      <th>overall</th>\n",
       "      <th>sentiment</th>\n",
       "    </tr>\n",
       "  </thead>\n",
       "  <tbody>\n",
       "    <tr>\n",
       "      <th>0</th>\n",
       "      <td>B000003B6J</td>\n",
       "      <td>This piece of ignorant trash single-handedly r...</td>\n",
       "      <td>1.0</td>\n",
       "      <td>negative</td>\n",
       "    </tr>\n",
       "    <tr>\n",
       "      <th>1</th>\n",
       "      <td>B000002IWQ</td>\n",
       "      <td>All they can do with Rush's recordings is play...</td>\n",
       "      <td>1.0</td>\n",
       "      <td>negative</td>\n",
       "    </tr>\n",
       "    <tr>\n",
       "      <th>2</th>\n",
       "      <td>B000002OQ3</td>\n",
       "      <td>Jodeci was one of the most popular R&amp;B; groups...</td>\n",
       "      <td>2.0</td>\n",
       "      <td>negative</td>\n",
       "    </tr>\n",
       "    <tr>\n",
       "      <th>3</th>\n",
       "      <td>B00008V61C</td>\n",
       "      <td>Ok I'm a big Jay-Z fan but not that big of a f...</td>\n",
       "      <td>2.0</td>\n",
       "      <td>negative</td>\n",
       "    </tr>\n",
       "    <tr>\n",
       "      <th>4</th>\n",
       "      <td>B000002GXX</td>\n",
       "      <td>It's been a while since I bashed the Eagles, s...</td>\n",
       "      <td>1.0</td>\n",
       "      <td>negative</td>\n",
       "    </tr>\n",
       "  </tbody>\n",
       "</table>\n",
       "</div>"
      ],
      "text/plain": [
       "         asin                                         reviewText  overall  \\\n",
       "0  B000003B6J  This piece of ignorant trash single-handedly r...      1.0   \n",
       "1  B000002IWQ  All they can do with Rush's recordings is play...      1.0   \n",
       "2  B000002OQ3  Jodeci was one of the most popular R&B; groups...      2.0   \n",
       "3  B00008V61C  Ok I'm a big Jay-Z fan but not that big of a f...      2.0   \n",
       "4  B000002GXX  It's been a while since I bashed the Eagles, s...      1.0   \n",
       "\n",
       "  sentiment  \n",
       "0  negative  \n",
       "1  negative  \n",
       "2  negative  \n",
       "3  negative  \n",
       "4  negative  "
      ]
     },
     "execution_count": 16,
     "metadata": {},
     "output_type": "execute_result"
    }
   ],
   "source": [
    "train_dataset.head()"
   ]
  },
  {
   "cell_type": "markdown",
   "id": "5e0a006f-d690-41ac-8c95-f7f33f29b446",
   "metadata": {},
   "source": [
    "# Build a Classification model using Bag-of-words method."
   ]
  },
  {
   "cell_type": "markdown",
   "id": "86bfa4f5-c0ad-4d18-8c7f-fa6f16e55fbf",
   "metadata": {},
   "source": [
    "This will be done by the nltk library and it requires to process all the reviews into a \"bag-of-words\" before applying classification. To create the word bag, first we have to combine all review into one large string then we tokenize that large string to a list of words - means the bag-of-words.\n",
    "\n",
    "Create the Positive bag-of-words."
   ]
  },
  {
   "cell_type": "code",
   "execution_count": 17,
   "id": "7f00c152-9bb6-4e69-b2a5-e59c8ab74220",
   "metadata": {},
   "outputs": [],
   "source": [
    "#Create a list of all positive reviews.\n",
    "positive_reviews = train_dataset.loc[train_dataset['sentiment'] == 'positive']\n",
    "positive_reviews = positive_reviews['reviewText'].tolist()\n",
    "\n",
    "#Lower all the words to eliminate duplicates.\n",
    "positive_reviews = [positive_review.lower() for positive_review in positive_reviews]\n",
    "\n",
    "#Join all reviews into one large string.\n",
    "positive_reviews = ' '.join([str(positive_review) for positive_review in positive_reviews])"
   ]
  },
  {
   "cell_type": "code",
   "execution_count": 18,
   "id": "26ce9c3c-3f1d-4f4f-815f-34ce3876ebae",
   "metadata": {},
   "outputs": [
    {
     "name": "stdout",
     "output_type": "stream",
     "text": [
      "Datatype of positive_reviews is <class 'str'> and it has 6799576 characters!\n"
     ]
    }
   ],
   "source": [
    "print(f\"Datatype of positive_reviews is {type(positive_reviews)} and it has {len(positive_reviews)} characters!\")"
   ]
  },
  {
   "cell_type": "markdown",
   "id": "09a1f86a-de43-489c-866d-4bb095a99ff8",
   "metadata": {},
   "source": [
    "Our bag-of-words does not include stop words in English, punctuations, and whitespaces."
   ]
  },
  {
   "cell_type": "code",
   "execution_count": 19,
   "id": "6db711bd-1b2f-427c-8be9-773384c5e2b2",
   "metadata": {},
   "outputs": [],
   "source": [
    "#Create a set of stop words and punctuation.\n",
    "stop_words = set(stopwords.words('english') + list(string.punctuation))"
   ]
  },
  {
   "cell_type": "code",
   "execution_count": 20,
   "id": "77e03282-4a48-41c5-82b3-6ca973d5c67a",
   "metadata": {},
   "outputs": [],
   "source": [
    "#Tokenize the list of positive words using whitespace method. It mean that we will separate the words by the whitespces, tabs, or new line.\n",
    "positive_words = WhitespaceTokenizer().tokenize(positive_reviews)\n",
    "\n",
    "#Remove stop words and punctuations.\n",
    "positive_words = [positive_word for positive_word in positive_words if positive_word not in stop_words]\n",
    "\n",
    "#Remove punctuations that may be connected with the words.\n",
    "positive_words = [positive_word.strip(string.punctuation) for positive_word in positive_words]"
   ]
  },
  {
   "cell_type": "markdown",
   "id": "c67de2f9-538c-4e05-998f-a4deb1a13205",
   "metadata": {},
   "source": [
    "View the most 20 common positive words."
   ]
  },
  {
   "cell_type": "code",
   "execution_count": 21,
   "id": "c3a4b8a7-1491-4803-b0d5-19cbc2f7416f",
   "metadata": {},
   "outputs": [
    {
     "data": {
      "text/plain": [
       "[('album', 12594),\n",
       " ('song', 6564),\n",
       " ('one', 6368),\n",
       " ('like', 5809),\n",
       " ('songs', 5167),\n",
       " ('great', 4148),\n",
       " ('music', 4022),\n",
       " ('good', 3688),\n",
       " ('best', 3544),\n",
       " ('cd', 3406),\n",
       " ('love', 3222),\n",
       " ('first', 2660),\n",
       " ('track', 2538),\n",
       " ('time', 2478),\n",
       " ('really', 2399),\n",
       " ('still', 2228),\n",
       " ('get', 2177),\n",
       " ('it', 2149),\n",
       " ('sound', 2115),\n",
       " ('would', 2004)]"
      ]
     },
     "execution_count": 21,
     "metadata": {},
     "output_type": "execute_result"
    }
   ],
   "source": [
    "positive_word_frequency = nltk.FreqDist(positive_words)\n",
    "positive_word_frequency.most_common(20)"
   ]
  },
  {
   "cell_type": "markdown",
   "id": "33b6f8a9-86ff-40a7-b86e-82fab843632e",
   "metadata": {},
   "source": [
    "Create the Negative bag-of-words similarly to creating the Positive bag-of-words."
   ]
  },
  {
   "cell_type": "code",
   "execution_count": 22,
   "id": "a57337ce-418f-4d5d-8175-7b3e017d7081",
   "metadata": {},
   "outputs": [],
   "source": [
    "negative_reviews = train_dataset.loc[train_dataset['sentiment'] == 'negative']\n",
    "negative_reviews = negative_reviews['reviewText'].tolist()\n",
    "negative_reviews = [negative_review.lower() for negative_review in negative_reviews]\n",
    "negative_reviews = ' '.join([str(negative_review) for negative_review in negative_reviews])\n",
    "negative_words = WhitespaceTokenizer().tokenize(negative_reviews)\n",
    "negative_words = [negative_word for negative_word in negative_words if negative_word not in stop_words]\n",
    "negative_words = [negative_word.strip(string.punctuation) for negative_word in negative_words]"
   ]
  },
  {
   "cell_type": "code",
   "execution_count": 23,
   "id": "89abd217-d642-476d-b4c8-6b6213dc6b9b",
   "metadata": {},
   "outputs": [
    {
     "data": {
      "text/plain": [
       "[('album', 9085),\n",
       " ('like', 6279),\n",
       " ('songs', 3980),\n",
       " ('one', 3912),\n",
       " ('song', 3638),\n",
       " ('good', 3331),\n",
       " ('music', 3069),\n",
       " ('cd', 2757),\n",
       " ('really', 2377),\n",
       " ('even', 2353),\n",
       " ('get', 2339),\n",
       " ('it', 2121),\n",
       " ('would', 1860),\n",
       " ('much', 1829),\n",
       " ('better', 1665),\n",
       " ('first', 1635),\n",
       " ('time', 1610),\n",
       " ('sound', 1560),\n",
       " ('bad', 1457),\n",
       " (\"i'm\", 1440)]"
      ]
     },
     "execution_count": 23,
     "metadata": {},
     "output_type": "execute_result"
    }
   ],
   "source": [
    "negative_word_frequency = nltk.FreqDist(negative_words)\n",
    "negative_word_frequency.most_common(20)"
   ]
  },
  {
   "cell_type": "code",
   "execution_count": 24,
   "id": "ae65f1c1-301b-4362-9ecd-893713817491",
   "metadata": {},
   "outputs": [
    {
     "name": "stdout",
     "output_type": "stream",
     "text": [
      "Number of Positive word: 668572\n",
      "Number of Negative word: 504185\n"
     ]
    }
   ],
   "source": [
    "print(\"Number of Positive word:\", len(positive_words))\n",
    "print(\"Number of Negative word:\", len(negative_words))\n"
   ]
  },
  {
   "cell_type": "markdown",
   "id": "b11450b2-44df-4bc7-a3d6-4c28965b8f91",
   "metadata": {},
   "source": [
    "More specifically, we will use Naive Bayes Classifier of nltk library. This classifier requires the inputs have to be in the set format (feature, label). More details can be found in nltk documentation."
   ]
  },
  {
   "cell_type": "markdown",
   "id": "5519199a-5eb1-444b-9043-49189717539b",
   "metadata": {},
   "source": [
    "This function will transform a word in the bag to the required set format (feature, label)."
   ]
  },
  {
   "cell_type": "code",
   "execution_count": 25,
   "id": "2122837a-2f23-4069-9a86-9ab1c8cbc3ef",
   "metadata": {},
   "outputs": [],
   "source": [
    "def word_features(words):\n",
    "    return dict([(word, True) for word in words.split()])"
   ]
  },
  {
   "cell_type": "markdown",
   "id": "b10db018-0ba2-4aa4-b7f6-6ee75ab480ce",
   "metadata": {},
   "source": [
    "Create the list of (feature, label) sets for the positive and negative bag-of-words."
   ]
  },
  {
   "cell_type": "code",
   "execution_count": 26,
   "id": "927a7e01-8b57-4b24-b04c-dcf6510ec994",
   "metadata": {},
   "outputs": [],
   "source": [
    "positive_features = [(word_features(positive_word), 'positive') for positive_word in positive_words]\n",
    "negative_features = [(word_features(negative_word), 'negative') for negative_word in negative_words]\n"
   ]
  },
  {
   "cell_type": "markdown",
   "id": "711b2bf7-1262-48be-8cdd-a7160507b09b",
   "metadata": {},
   "source": [
    "Final format of the positive and negative bag-of-words."
   ]
  },
  {
   "cell_type": "code",
   "execution_count": 27,
   "id": "db48b7d1-0685-41a8-81c1-821400622f64",
   "metadata": {},
   "outputs": [
    {
     "data": {
      "text/plain": [
       "[({'john': True}, 'positive'),\n",
       " ({'denver': True}, 'positive'),\n",
       " ({'farewell': True}, 'positive'),\n",
       " ({'andromeda': True}, 'positive'),\n",
       " ({'true': True}, 'positive'),\n",
       " ({'huge': True}, 'positive'),\n",
       " ({'hits': True}, 'positive'),\n",
       " ({'album': True}, 'positive'),\n",
       " ({'nevertheless': True}, 'positive'),\n",
       " ({'john': True}, 'positive')]"
      ]
     },
     "execution_count": 27,
     "metadata": {},
     "output_type": "execute_result"
    }
   ],
   "source": [
    "positive_features[:10]"
   ]
  },
  {
   "cell_type": "code",
   "execution_count": 28,
   "id": "bf3cbc5c-fc38-4c93-aed1-f0d71b4e33a9",
   "metadata": {},
   "outputs": [
    {
     "data": {
      "text/plain": [
       "[({'piece': True}, 'negative'),\n",
       " ({'ignorant': True}, 'negative'),\n",
       " ({'trash': True}, 'negative'),\n",
       " ({'single-handedly': True}, 'negative'),\n",
       " ({'ruined': True}, 'negative'),\n",
       " ({'rap': True}, 'negative'),\n",
       " ({'music': True}, 'negative'),\n",
       " ({'misled': True}, 'negative'),\n",
       " ({'generation': True}, 'negative'),\n",
       " ({'destroyed': True}, 'negative')]"
      ]
     },
     "execution_count": 28,
     "metadata": {},
     "output_type": "execute_result"
    }
   ],
   "source": [
    "negative_features[:10]"
   ]
  },
  {
   "cell_type": "markdown",
   "id": "0701fe7b-f690-4310-b9ca-b83733d1b46b",
   "metadata": {},
   "source": [
    "Combine the positive and negative bag-of-words into one big bag then shuffle all the words inside."
   ]
  },
  {
   "cell_type": "code",
   "execution_count": 29,
   "id": "95447fdb-1dc3-4d02-831a-f99c0de40524",
   "metadata": {},
   "outputs": [],
   "source": [
    "feature_label_pairs = positive_features + negative_features\n",
    "random.shuffle(feature_label_pairs)"
   ]
  },
  {
   "cell_type": "markdown",
   "id": "fb9a1715-9c3d-4f85-88c8-ad382662a6ea",
   "metadata": {},
   "source": [
    "Split \"the big bag\" into train and test dataset with the .8 training split ratio."
   ]
  },
  {
   "cell_type": "code",
   "execution_count": 30,
   "id": "51a14322-10f4-457c-aa25-375e50651ea5",
   "metadata": {},
   "outputs": [],
   "source": [
    "train_ratio = 0.8\n",
    "split_point = int(len(feature_label_pairs)*train_ratio)\n",
    "train_set, test_set = feature_label_pairs[:split_point], feature_label_pairs[split_point:]"
   ]
  },
  {
   "cell_type": "markdown",
   "id": "4478aa71-c0b6-483b-971f-03fb566c9ebc",
   "metadata": {},
   "source": [
    "Train and test the model. Accuracy is used to evaluated model's performance."
   ]
  },
  {
   "cell_type": "code",
   "execution_count": 31,
   "id": "aba39350-5289-4fa9-a4c8-2b179a7d2603",
   "metadata": {},
   "outputs": [
    {
     "name": "stdout",
     "output_type": "stream",
     "text": [
      "Accuracy rate of Naive Bayes Classification model: 61.79%\n"
     ]
    }
   ],
   "source": [
    "classifier = nltk.NaiveBayesClassifier.train(train_set)\n",
    "\n",
    "accuracy = nltk.classify.accuracy(classifier, test_set)\n",
    "accuracy = round(accuracy*100, 2)\n",
    "print(f\"Accuracy rate of Naive Bayes Classification model: {accuracy}%\")"
   ]
  }
 ],
 "metadata": {
  "kernelspec": {
   "display_name": "Python 3 (ipykernel)",
   "language": "python",
   "name": "python3"
  },
  "language_info": {
   "codemirror_mode": {
    "name": "ipython",
    "version": 3
   },
   "file_extension": ".py",
   "mimetype": "text/x-python",
   "name": "python",
   "nbconvert_exporter": "python",
   "pygments_lexer": "ipython3",
   "version": "3.8.12"
  }
 },
 "nbformat": 4,
 "nbformat_minor": 5
}

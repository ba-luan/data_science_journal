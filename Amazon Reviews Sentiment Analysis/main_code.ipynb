{
 "cells": [
  {
   "cell_type": "markdown",
   "id": "efe897c5-82ab-4b5f-bd91-b94673bbd024",
   "metadata": {},
   "source": [
    "# Code for download and save dataset from source."
   ]
  },
  {
   "cell_type": "code",
   "execution_count": 1,
   "id": "8eea99d9-1130-4251-8b6a-fe283ac25863",
   "metadata": {
    "tags": []
   },
   "outputs": [],
   "source": [
    "# import urllib.request\n",
    "# import gzip\n",
    "# import pandas as pd\n",
    "\n",
    "# url = \"http://snap.stanford.edu/data/amazon/productGraph/categoryFiles/reviews_Digital_Music_5.json.gz\"\n",
    "# file_name = \"reviews_Digital_Music_5.json.gz\"\n",
    "\n",
    "# file = urllib.request.URLopener()\n",
    "# file.retrieve(url, file_name)\n",
    "\n",
    "# def parse(path):\n",
    "#     g = gzip.open(path, 'rb')\n",
    "#     for l in g:\n",
    "#         yield eval(l)\n",
    "\n",
    "# def getDF(path):\n",
    "#     i = 0\n",
    "#     df = {}\n",
    "#     for d in parse(path):\n",
    "#         df[i] = d\n",
    "#         i += 1\n",
    "#     return pd.DataFrame.from_dict(df, orient='index')\n",
    "\n",
    "# df = getDF(file_name)\n",
    "# df.to_csv(\"{}.csv\".format(file_name))\n"
   ]
  },
  {
   "cell_type": "code",
   "execution_count": 2,
   "id": "304e8a47-de6b-4380-934f-9541ee13f5b3",
   "metadata": {},
   "outputs": [
    {
     "name": "stdout",
     "output_type": "stream",
     "text": [
      "Pretty printing has been turned OFF\n"
     ]
    }
   ],
   "source": [
    "import pandas as pd\n",
    "import random\n",
    "import string\n",
    "import nltk\n",
    "from nltk.tokenize import WhitespaceTokenizer\n",
    "from nltk.corpus import stopwords\n",
    "from nltk import classify\n",
    "from nltk import NaiveBayesClassifier\n",
    "\n",
    "%pprint"
   ]
  },
  {
   "cell_type": "markdown",
   "id": "7dc51aed-f31e-4dd6-970b-69baa1a35e9e",
   "metadata": {},
   "source": [
    "# Data Preparation."
   ]
  },
  {
   "cell_type": "code",
   "execution_count": 3,
   "id": "f8816012-ac7f-4f1e-84ec-a8ea1bcd69f7",
   "metadata": {},
   "outputs": [
    {
     "data": {
      "text/html": [
       "<div>\n",
       "<style scoped>\n",
       "    .dataframe tbody tr th:only-of-type {\n",
       "        vertical-align: middle;\n",
       "    }\n",
       "\n",
       "    .dataframe tbody tr th {\n",
       "        vertical-align: top;\n",
       "    }\n",
       "\n",
       "    .dataframe thead th {\n",
       "        text-align: right;\n",
       "    }\n",
       "</style>\n",
       "<table border=\"1\" class=\"dataframe\">\n",
       "  <thead>\n",
       "    <tr style=\"text-align: right;\">\n",
       "      <th></th>\n",
       "      <th>Unnamed: 0</th>\n",
       "      <th>reviewerID</th>\n",
       "      <th>asin</th>\n",
       "      <th>reviewerName</th>\n",
       "      <th>helpful</th>\n",
       "      <th>reviewText</th>\n",
       "      <th>overall</th>\n",
       "      <th>summary</th>\n",
       "      <th>unixReviewTime</th>\n",
       "      <th>reviewTime</th>\n",
       "    </tr>\n",
       "  </thead>\n",
       "  <tbody>\n",
       "    <tr>\n",
       "      <th>0</th>\n",
       "      <td>0</td>\n",
       "      <td>A3EBHHCZO6V2A4</td>\n",
       "      <td>5555991584</td>\n",
       "      <td>Amaranth \"music fan\"</td>\n",
       "      <td>[3, 3]</td>\n",
       "      <td>It's hard to believe \"Memory of Trees\" came ou...</td>\n",
       "      <td>5.0</td>\n",
       "      <td>Enya's last great album</td>\n",
       "      <td>1158019200</td>\n",
       "      <td>09 12, 2006</td>\n",
       "    </tr>\n",
       "    <tr>\n",
       "      <th>1</th>\n",
       "      <td>1</td>\n",
       "      <td>AZPWAXJG9OJXV</td>\n",
       "      <td>5555991584</td>\n",
       "      <td>bethtexas</td>\n",
       "      <td>[0, 0]</td>\n",
       "      <td>A clasically-styled and introverted album, Mem...</td>\n",
       "      <td>5.0</td>\n",
       "      <td>Enya at her most elegant</td>\n",
       "      <td>991526400</td>\n",
       "      <td>06 3, 2001</td>\n",
       "    </tr>\n",
       "    <tr>\n",
       "      <th>2</th>\n",
       "      <td>2</td>\n",
       "      <td>A38IRL0X2T4DPF</td>\n",
       "      <td>5555991584</td>\n",
       "      <td>bob turnley</td>\n",
       "      <td>[2, 2]</td>\n",
       "      <td>I never thought Enya would reach the sublime h...</td>\n",
       "      <td>5.0</td>\n",
       "      <td>The best so far</td>\n",
       "      <td>1058140800</td>\n",
       "      <td>07 14, 2003</td>\n",
       "    </tr>\n",
       "    <tr>\n",
       "      <th>3</th>\n",
       "      <td>3</td>\n",
       "      <td>A22IK3I6U76GX0</td>\n",
       "      <td>5555991584</td>\n",
       "      <td>Calle</td>\n",
       "      <td>[1, 1]</td>\n",
       "      <td>This is the third review of an irish album I w...</td>\n",
       "      <td>5.0</td>\n",
       "      <td>Ireland produces good music.</td>\n",
       "      <td>957312000</td>\n",
       "      <td>05 3, 2000</td>\n",
       "    </tr>\n",
       "    <tr>\n",
       "      <th>4</th>\n",
       "      <td>4</td>\n",
       "      <td>A1AISPOIIHTHXX</td>\n",
       "      <td>5555991584</td>\n",
       "      <td>Cloud \"...\"</td>\n",
       "      <td>[1, 1]</td>\n",
       "      <td>Enya, despite being a successful recording art...</td>\n",
       "      <td>4.0</td>\n",
       "      <td>4.5; music to dream to</td>\n",
       "      <td>1200528000</td>\n",
       "      <td>01 17, 2008</td>\n",
       "    </tr>\n",
       "  </tbody>\n",
       "</table>\n",
       "</div>"
      ],
      "text/plain": [
       "   Unnamed: 0      reviewerID        asin          reviewerName helpful  \\\n",
       "0           0  A3EBHHCZO6V2A4  5555991584  Amaranth \"music fan\"  [3, 3]   \n",
       "1           1   AZPWAXJG9OJXV  5555991584             bethtexas  [0, 0]   \n",
       "2           2  A38IRL0X2T4DPF  5555991584           bob turnley  [2, 2]   \n",
       "3           3  A22IK3I6U76GX0  5555991584                 Calle  [1, 1]   \n",
       "4           4  A1AISPOIIHTHXX  5555991584           Cloud \"...\"  [1, 1]   \n",
       "\n",
       "                                          reviewText  overall  \\\n",
       "0  It's hard to believe \"Memory of Trees\" came ou...      5.0   \n",
       "1  A clasically-styled and introverted album, Mem...      5.0   \n",
       "2  I never thought Enya would reach the sublime h...      5.0   \n",
       "3  This is the third review of an irish album I w...      5.0   \n",
       "4  Enya, despite being a successful recording art...      4.0   \n",
       "\n",
       "                        summary  unixReviewTime   reviewTime  \n",
       "0       Enya's last great album      1158019200  09 12, 2006  \n",
       "1      Enya at her most elegant       991526400   06 3, 2001  \n",
       "2               The best so far      1058140800  07 14, 2003  \n",
       "3  Ireland produces good music.       957312000   05 3, 2000  \n",
       "4        4.5; music to dream to      1200528000  01 17, 2008  "
      ]
     },
     "execution_count": 3,
     "metadata": {},
     "output_type": "execute_result"
    }
   ],
   "source": [
    "df = pd.read_csv(\"reviews_Digital_Music_5.json.gz.csv\")\n",
    "df.head()"
   ]
  },
  {
   "cell_type": "code",
   "execution_count": 4,
   "id": "9882eb95-31db-49a6-a2fe-a56bb4c41565",
   "metadata": {},
   "outputs": [
    {
     "name": "stdout",
     "output_type": "stream",
     "text": [
      "<class 'pandas.core.frame.DataFrame'>\n",
      "RangeIndex: 64706 entries, 0 to 64705\n",
      "Data columns (total 10 columns):\n",
      " #   Column          Non-Null Count  Dtype  \n",
      "---  ------          --------------  -----  \n",
      " 0   Unnamed: 0      64706 non-null  int64  \n",
      " 1   reviewerID      64706 non-null  object \n",
      " 2   asin            64706 non-null  object \n",
      " 3   reviewerName    64529 non-null  object \n",
      " 4   helpful         64706 non-null  object \n",
      " 5   reviewText      64705 non-null  object \n",
      " 6   overall         64706 non-null  float64\n",
      " 7   summary         64706 non-null  object \n",
      " 8   unixReviewTime  64706 non-null  int64  \n",
      " 9   reviewTime      64706 non-null  object \n",
      "dtypes: float64(1), int64(2), object(7)\n",
      "memory usage: 4.9+ MB\n"
     ]
    }
   ],
   "source": [
    "df.info()"
   ]
  },
  {
   "cell_type": "markdown",
   "id": "7280b8e5-cbbe-4165-a4d3-89a44be27687",
   "metadata": {},
   "source": [
    "Drop all columns that we don't need in the analysis."
   ]
  },
  {
   "cell_type": "code",
   "execution_count": 5,
   "id": "988869ab-51c9-4565-90b1-c247bc66c07e",
   "metadata": {},
   "outputs": [],
   "source": [
    "df.drop(labels=['Unnamed: 0', 'reviewerID', 'reviewerName', 'helpful', 'unixReviewTime', 'reviewTime'],\n",
    "        axis='columns', inplace=True)"
   ]
  },
  {
   "cell_type": "code",
   "execution_count": 6,
   "id": "15d99c13-1959-4207-8748-68bd004af68f",
   "metadata": {},
   "outputs": [
    {
     "data": {
      "text/html": [
       "<div>\n",
       "<style scoped>\n",
       "    .dataframe tbody tr th:only-of-type {\n",
       "        vertical-align: middle;\n",
       "    }\n",
       "\n",
       "    .dataframe tbody tr th {\n",
       "        vertical-align: top;\n",
       "    }\n",
       "\n",
       "    .dataframe thead th {\n",
       "        text-align: right;\n",
       "    }\n",
       "</style>\n",
       "<table border=\"1\" class=\"dataframe\">\n",
       "  <thead>\n",
       "    <tr style=\"text-align: right;\">\n",
       "      <th></th>\n",
       "      <th>asin</th>\n",
       "      <th>reviewText</th>\n",
       "      <th>overall</th>\n",
       "      <th>summary</th>\n",
       "    </tr>\n",
       "  </thead>\n",
       "  <tbody>\n",
       "    <tr>\n",
       "      <th>0</th>\n",
       "      <td>5555991584</td>\n",
       "      <td>It's hard to believe \"Memory of Trees\" came ou...</td>\n",
       "      <td>5.0</td>\n",
       "      <td>Enya's last great album</td>\n",
       "    </tr>\n",
       "    <tr>\n",
       "      <th>1</th>\n",
       "      <td>5555991584</td>\n",
       "      <td>A clasically-styled and introverted album, Mem...</td>\n",
       "      <td>5.0</td>\n",
       "      <td>Enya at her most elegant</td>\n",
       "    </tr>\n",
       "    <tr>\n",
       "      <th>2</th>\n",
       "      <td>5555991584</td>\n",
       "      <td>I never thought Enya would reach the sublime h...</td>\n",
       "      <td>5.0</td>\n",
       "      <td>The best so far</td>\n",
       "    </tr>\n",
       "    <tr>\n",
       "      <th>3</th>\n",
       "      <td>5555991584</td>\n",
       "      <td>This is the third review of an irish album I w...</td>\n",
       "      <td>5.0</td>\n",
       "      <td>Ireland produces good music.</td>\n",
       "    </tr>\n",
       "    <tr>\n",
       "      <th>4</th>\n",
       "      <td>5555991584</td>\n",
       "      <td>Enya, despite being a successful recording art...</td>\n",
       "      <td>4.0</td>\n",
       "      <td>4.5; music to dream to</td>\n",
       "    </tr>\n",
       "  </tbody>\n",
       "</table>\n",
       "</div>"
      ],
      "text/plain": [
       "         asin                                         reviewText  overall  \\\n",
       "0  5555991584  It's hard to believe \"Memory of Trees\" came ou...      5.0   \n",
       "1  5555991584  A clasically-styled and introverted album, Mem...      5.0   \n",
       "2  5555991584  I never thought Enya would reach the sublime h...      5.0   \n",
       "3  5555991584  This is the third review of an irish album I w...      5.0   \n",
       "4  5555991584  Enya, despite being a successful recording art...      4.0   \n",
       "\n",
       "                        summary  \n",
       "0       Enya's last great album  \n",
       "1      Enya at her most elegant  \n",
       "2               The best so far  \n",
       "3  Ireland produces good music.  \n",
       "4        4.5; music to dream to  "
      ]
     },
     "execution_count": 6,
     "metadata": {},
     "output_type": "execute_result"
    }
   ],
   "source": [
    "df.head()"
   ]
  },
  {
   "cell_type": "markdown",
   "id": "664f428a-cf68-442a-aabd-c61ce5a7ee41",
   "metadata": {},
   "source": [
    "The overall score is from 1 to 5; we should check the percentage of each score in the dataset."
   ]
  },
  {
   "cell_type": "code",
   "execution_count": 7,
   "id": "04878558-fd5f-49ef-8090-31726844e7f9",
   "metadata": {},
   "outputs": [
    {
     "data": {
      "text/plain": [
       "5.0    0.549872\n",
       "4.0    0.255556\n",
       "3.0    0.104921\n",
       "2.0    0.046518\n",
       "1.0    0.043134\n",
       "Name: overall, dtype: float64"
      ]
     },
     "execution_count": 7,
     "metadata": {},
     "output_type": "execute_result"
    }
   ],
   "source": [
    "df['overall'].value_counts(normalize=True)"
   ]
  },
  {
   "cell_type": "markdown",
   "id": "060dcb7b-ffe3-4667-bcf6-a8b4a0a30d92",
   "metadata": {},
   "source": [
    "Print out the review text of the first review."
   ]
  },
  {
   "cell_type": "code",
   "execution_count": 8,
   "id": "7ce6e931-3675-4a2a-aaf0-0d8ad9d3ac2d",
   "metadata": {},
   "outputs": [
    {
     "data": {
      "text/plain": [
       "'It\\'s hard to believe \"Memory of Trees\" came out 11 years ago;it has held up well over the passage of time.It\\'s Enya\\'s last great album before the New Age/pop of \"Amarantine\" and \"Day without rain.\" Back in 1995,Enya still had her creative spark,her own voice.I agree with the reviewer who said that this is her saddest album;it is melancholy,bittersweet,from the opening title song.\"Memory of Trees\" is elegaic&majestic.;\"Pax Deorum\" sounds like it is from a Requiem Mass,it is a dark threnody.Unlike the reviewer who said that this has a \"disconcerting\" blend of spirituality&sensuality;,I don\\'t find it disconcerting at all.\"Anywhere is\" is a hopeful song,looking to possibilities.\"Hope has a place\" is about love,but it is up to the listener to decide if it is romantic,platonic,etc.I\\'ve always had a soft spot for this song.\"On my way home\" is a triumphant ending about return.This is truly a masterpiece of New Age music,a must for any Enya fan!'"
      ]
     },
     "execution_count": 8,
     "metadata": {},
     "output_type": "execute_result"
    }
   ],
   "source": [
    "df.iloc[0,1]"
   ]
  },
  {
   "cell_type": "markdown",
   "id": "38c31161-90e4-42cf-b67e-b75eb5757ba0",
   "metadata": {},
   "source": [
    "Print out the summary text of the first review."
   ]
  },
  {
   "cell_type": "code",
   "execution_count": 9,
   "id": "da71cd65-c6b7-4d71-8908-a83f4f8ed35e",
   "metadata": {},
   "outputs": [
    {
     "data": {
      "text/plain": [
       "\"Enya's last great album\""
      ]
     },
     "execution_count": 9,
     "metadata": {},
     "output_type": "execute_result"
    }
   ],
   "source": [
    "df.iloc[0,3]"
   ]
  },
  {
   "cell_type": "markdown",
   "id": "d6e0adad-2830-4dcc-93da-221151b31246",
   "metadata": {},
   "source": [
    "Combine the review text column and summary column into one colum."
   ]
  },
  {
   "cell_type": "code",
   "execution_count": 10,
   "id": "0e241b1b-df2f-47e4-ac8e-7315f46f6bc8",
   "metadata": {},
   "outputs": [
    {
     "name": "stdout",
     "output_type": "stream",
     "text": [
      "<class 'pandas.core.frame.DataFrame'>\n",
      "Int64Index: 64705 entries, 0 to 64705\n",
      "Data columns (total 3 columns):\n",
      " #   Column      Non-Null Count  Dtype  \n",
      "---  ------      --------------  -----  \n",
      " 0   asin        64705 non-null  object \n",
      " 1   reviewText  64705 non-null  object \n",
      " 2   overall     64705 non-null  float64\n",
      "dtypes: float64(1), object(2)\n",
      "memory usage: 2.0+ MB\n"
     ]
    }
   ],
   "source": [
    "df['reviewText'] = df['reviewText'] + ' ' + df['summary']\n",
    "df.drop(labels=['summary'], axis='columns', inplace=True)\n",
    "df.dropna(inplace=True)\n",
    "df.info()"
   ]
  },
  {
   "cell_type": "markdown",
   "id": "5babd314-f8f5-468d-b9fd-87f4a061b919",
   "metadata": {},
   "source": [
    "We label the sentiment for each review in the dataset. For the overall score of 4 or 5, the sentiment is 'positive'. For the overall score of 2 or 1, the sentiment is 'negative'; if overall score equals to 3, the sentiment is 'neutral'."
   ]
  },
  {
   "cell_type": "code",
   "execution_count": 11,
   "id": "62050541-d6bc-4fdd-a564-bb0e1ef9c77e",
   "metadata": {},
   "outputs": [],
   "source": [
    "df.loc[df['overall'] >= 4, 'sentiment'] = 'positive'\n",
    "df.loc[df['overall'] <= 2, 'sentiment'] = 'negative'\n",
    "df.loc[df['overall'] == 3, 'sentiment'] = 'neutral'"
   ]
  },
  {
   "cell_type": "markdown",
   "id": "1456fac0-a496-49c3-898c-665bc99bc83d",
   "metadata": {
    "tags": []
   },
   "source": [
    "Check the percentage of each sentiment in the dataset."
   ]
  },
  {
   "cell_type": "code",
   "execution_count": 12,
   "id": "6beb56f8-c42c-4c26-85ac-e392eb487cb7",
   "metadata": {
    "tags": []
   },
   "outputs": [
    {
     "data": {
      "text/plain": [
       "positive    0.805440\n",
       "neutral     0.104907\n",
       "negative    0.089653\n",
       "Name: sentiment, dtype: float64"
      ]
     },
     "execution_count": 12,
     "metadata": {},
     "output_type": "execute_result"
    }
   ],
   "source": [
    "df['sentiment'].value_counts(normalize=True)"
   ]
  },
  {
   "cell_type": "markdown",
   "id": "eece2cd9-6cd9-4d36-a715-58761ac6573c",
   "metadata": {},
   "source": [
    "We do not need the neutral sentiment in the analysis because opinions of some people may incline toward positive sentiment but they still rate the product at 3. It is also the same in case of negative-inclined opinions. So neutral sentiment is quite ambiguous."
   ]
  },
  {
   "cell_type": "code",
   "execution_count": 13,
   "id": "5bac90dd-f9d8-43dd-8ada-cf689c5dfcb7",
   "metadata": {},
   "outputs": [],
   "source": [
    "train_dataset = df[df['sentiment'] != 'neutral']"
   ]
  },
  {
   "cell_type": "code",
   "execution_count": 14,
   "id": "96d29b56-703f-45ab-b160-ea36ba5c7869",
   "metadata": {},
   "outputs": [
    {
     "data": {
      "text/plain": [
       "positive    52116\n",
       "negative     5801\n",
       "Name: sentiment, dtype: int64"
      ]
     },
     "execution_count": 14,
     "metadata": {},
     "output_type": "execute_result"
    }
   ],
   "source": [
    "train_dataset['sentiment'].value_counts()"
   ]
  },
  {
   "cell_type": "markdown",
   "id": "fdb7cdba-9338-442b-ba53-94393efdce17",
   "metadata": {},
   "source": [
    "There is imbalance between two labels, the negative sentiment are equivalent to 10% of the positive sentiment. We will use the lesser sentiment as the number of samples."
   ]
  },
  {
   "cell_type": "code",
   "execution_count": 15,
   "id": "56932f87-823f-4f4f-99ad-893e1b1cb497",
   "metadata": {},
   "outputs": [
    {
     "data": {
      "text/plain": [
       "5801"
      ]
     },
     "execution_count": 15,
     "metadata": {},
     "output_type": "execute_result"
    }
   ],
   "source": [
    "sample_number = min(train_dataset['sentiment'].value_counts())\n",
    "sample_number"
   ]
  },
  {
   "cell_type": "markdown",
   "id": "c4cb6b68-2a59-4b5a-b817-d73146a0ed4b",
   "metadata": {},
   "source": [
    "Sampling for both labels."
   ]
  },
  {
   "cell_type": "code",
   "execution_count": 16,
   "id": "6f7da5e9-3dfe-42da-b67d-3f10444e558b",
   "metadata": {
    "tags": []
   },
   "outputs": [],
   "source": [
    "train_dataset_negative = train_dataset.loc[train_dataset['sentiment'] ==  'negative']\n",
    "train_dataset_negative = train_dataset_negative.sample(n=sample_number)\n",
    "\n",
    "train_dataset_positive = train_dataset.loc[train_dataset['sentiment'] ==  'positive']\n",
    "train_dataset_positive = train_dataset_positive.sample(n=sample_number)"
   ]
  },
  {
   "cell_type": "markdown",
   "id": "68ab996f-411f-46d0-95f7-ff5b7cc14976",
   "metadata": {},
   "source": [
    "The numbers of positive and negative sentiment labels are equal after sampling."
   ]
  },
  {
   "cell_type": "code",
   "execution_count": 17,
   "id": "3da0fe98-a3ba-4fff-831e-ce031b7cf693",
   "metadata": {},
   "outputs": [
    {
     "name": "stdout",
     "output_type": "stream",
     "text": [
      "The number of positive sentiment label: 5801\n",
      "The number of negative sentiment label: 5801\n"
     ]
    }
   ],
   "source": [
    "print(\"The number of positive sentiment label:\", len(train_dataset_positive))\n",
    "print(\"The number of negative sentiment label:\", len(train_dataset_negative))\n"
   ]
  },
  {
   "cell_type": "markdown",
   "id": "5e0a006f-d690-41ac-8c95-f7f33f29b446",
   "metadata": {},
   "source": [
    "# Build a Classification model using Bag-of-words method."
   ]
  },
  {
   "cell_type": "markdown",
   "id": "86bfa4f5-c0ad-4d18-8c7f-fa6f16e55fbf",
   "metadata": {},
   "source": [
    "This will be done by the nltk library and it requires to process all the reviews into a \"bag-of-words\" before applying classification. To create the word bag, first we have to combine all review into one large string then we tokenize that large string to a list of words - means the bag-of-words.\n",
    "\n",
    "Create the Positive bag-of-words."
   ]
  },
  {
   "cell_type": "code",
   "execution_count": 18,
   "id": "238af71a-58de-48ec-bb77-7e712f60209e",
   "metadata": {},
   "outputs": [],
   "source": [
    "#Create a list of all positive reviews.\n",
    "positive_reviews = train_dataset_positive['reviewText'].tolist()"
   ]
  },
  {
   "cell_type": "code",
   "execution_count": 19,
   "id": "a150b5a1-514b-47f9-9fe4-76119e38c896",
   "metadata": {
    "tags": []
   },
   "outputs": [
    {
     "data": {
      "text/plain": [
       "\"Not only is this Bungle's most insane release, but it is his most eclectic...elements of sisxties surf rock, speed metal, garage punk, Italian mob, chamber, German thrash, polka, funk, techno, jazz, Arabian, eighties experimental pop, cartoon, freak theater, ethnic, Bmovie soundtrack, and uncategorizable miscellania are seen throughout-ofcourse all jumbled together as the other reviews said. The lyrics (which you have to read since it is virtually impossible to hear them because of the unorthodox manner in which they are layed out) are usually short, but are very dememted and distorted in that, talking about Arabian religion (&quot;Desert Search For Techno Allah&quot;), insomnia (&quot;Phlegmatics&quot;), dark obsessions (&quot;Carry Stress In The Jaw&quot;, which includes a brilliant excerpt from an Edgar Allen Poe writing, and &quot;Everyone I Knew...&quot;), humourous absurdities (the truly awesome &quot;Ma Meeshka Mow Skowz&quot;, which is my favorite track, and &quot;Platypus&quot;), and more depressing matters (&quot;Merry Go Bye Bye&quot;, an existenstialist ballad that switches from a surf rocker to noisy thrash and back again for the emotional finale). The oddest is possibly &quot;The Bends&quot;, a series of little instrumentals that fit cheesy bmovies. One of the songs has an unexpected surprise at the end, in which the sound levels are greatly messed with, but I won't tell you which one...the surprise is part of the enjoyment. another work of staggering crackpot genius\""
      ]
     },
     "execution_count": 19,
     "metadata": {},
     "output_type": "execute_result"
    }
   ],
   "source": [
    "#The first positive review in the list.\n",
    "positive_reviews[0]"
   ]
  },
  {
   "cell_type": "code",
   "execution_count": 20,
   "id": "7379afec-804e-431c-9859-f7163d78ca64",
   "metadata": {},
   "outputs": [
    {
     "name": "stdout",
     "output_type": "stream",
     "text": [
      "The number of positive reviews: 5801\n"
     ]
    }
   ],
   "source": [
    "print(\"The number of positive reviews:\", len(positive_reviews))"
   ]
  },
  {
   "cell_type": "code",
   "execution_count": 21,
   "id": "83d0b1e1-e951-4446-a1c9-2a5230e19898",
   "metadata": {},
   "outputs": [],
   "source": [
    "positive_text = str()\n",
    "\n",
    "for positive_review in positive_reviews:\n",
    "    #Transform a positive review into a string.\n",
    "    positive_review = str(positive_review)\n",
    "    \n",
    "    #Lower all the words to eliminate duplicates easier later.\n",
    "    positive_review = positive_review.lower()\n",
    "    \n",
    "    #Join all reviews into one large string.\n",
    "    positive_text = ' '.join([positive_text, positive_review])"
   ]
  },
  {
   "cell_type": "code",
   "execution_count": 22,
   "id": "26ce9c3c-3f1d-4f4f-815f-34ce3876ebae",
   "metadata": {},
   "outputs": [
    {
     "name": "stdout",
     "output_type": "stream",
     "text": [
      "Datatype of positive_text is <class 'str'> and it has 6850708 characters!\n"
     ]
    }
   ],
   "source": [
    "print(f\"Datatype of positive_text is {type(positive_text)} and it has {len(positive_text)} characters!\")"
   ]
  },
  {
   "cell_type": "markdown",
   "id": "09a1f86a-de43-489c-866d-4bb095a99ff8",
   "metadata": {},
   "source": [
    "Our bag-of-words does not include stop words in English, punctuations, and whitespaces."
   ]
  },
  {
   "cell_type": "code",
   "execution_count": 23,
   "id": "6e11b41c-81ea-4f9a-873e-25e790b2e750",
   "metadata": {},
   "outputs": [
    {
     "data": {
      "text/plain": [
       "['i', 'me', 'my', 'myself', 'we', 'our', 'ours', 'ourselves', 'you', \"you're\", \"you've\", \"you'll\", \"you'd\", 'your', 'yours', 'yourself', 'yourselves', 'he', 'him', 'his', 'himself', 'she', \"she's\", 'her', 'hers', 'herself', 'it', \"it's\", 'its', 'itself', 'they', 'them', 'their', 'theirs', 'themselves', 'what', 'which', 'who', 'whom', 'this', 'that', \"that'll\", 'these', 'those', 'am', 'is', 'are', 'was', 'were', 'be', 'been', 'being', 'have', 'has', 'had', 'having', 'do', 'does', 'did', 'doing', 'a', 'an', 'the', 'and', 'but', 'if', 'or', 'because', 'as', 'until', 'while', 'of', 'at', 'by', 'for', 'with', 'about', 'against', 'between', 'into', 'through', 'during', 'before', 'after', 'above', 'below', 'to', 'from', 'up', 'down', 'in', 'out', 'on', 'off', 'over', 'under', 'again', 'further', 'then', 'once', 'here', 'there', 'when', 'where', 'why', 'how', 'all', 'any', 'both', 'each', 'few', 'more', 'most', 'other', 'some', 'such', 'no', 'nor', 'not', 'only', 'own', 'same', 'so', 'than', 'too', 'very', 's', 't', 'can', 'will', 'just', 'don', \"don't\", 'should', \"should've\", 'now', 'd', 'll', 'm', 'o', 're', 've', 'y', 'ain', 'aren', \"aren't\", 'couldn', \"couldn't\", 'didn', \"didn't\", 'doesn', \"doesn't\", 'hadn', \"hadn't\", 'hasn', \"hasn't\", 'haven', \"haven't\", 'isn', \"isn't\", 'ma', 'mightn', \"mightn't\", 'mustn', \"mustn't\", 'needn', \"needn't\", 'shan', \"shan't\", 'shouldn', \"shouldn't\", 'wasn', \"wasn't\", 'weren', \"weren't\", 'won', \"won't\", 'wouldn', \"wouldn't\"]"
      ]
     },
     "execution_count": 23,
     "metadata": {},
     "output_type": "execute_result"
    }
   ],
   "source": [
    "#List of stop words in English.\n",
    "stop_words = stopwords.words('english')\n",
    "stop_words"
   ]
  },
  {
   "cell_type": "code",
   "execution_count": 24,
   "id": "1a2f5154-d1e9-47e4-88ee-963572bd1dee",
   "metadata": {},
   "outputs": [
    {
     "data": {
      "text/plain": [
       "['!', '\"', '#', '$', '%', '&', \"'\", '(', ')', '*', '+', ',', '-', '.', '/', ':', ';', '<', '=', '>', '?', '@', '[', '\\\\', ']', '^', '_', '`', '{', '|', '}', '~']"
      ]
     },
     "execution_count": 24,
     "metadata": {},
     "output_type": "execute_result"
    }
   ],
   "source": [
    "#List of all punctuations.\n",
    "punctuations = list(string.punctuation)\n",
    "punctuations"
   ]
  },
  {
   "cell_type": "code",
   "execution_count": 25,
   "id": "6db711bd-1b2f-427c-8be9-773384c5e2b2",
   "metadata": {},
   "outputs": [],
   "source": [
    "#Create a set of stop words and punctuation.\n",
    "stop_words = set(stop_words + punctuations)"
   ]
  },
  {
   "cell_type": "code",
   "execution_count": 26,
   "id": "9e48cd7e-54f7-4c02-a7f7-db84d9da2774",
   "metadata": {},
   "outputs": [],
   "source": [
    "#Tokenize the list of positive words using whitespace method.\n",
    "#It mean that we will separate the words by the whitespces, tabs, or new line.\n",
    "positive_words = WhitespaceTokenizer().tokenize(positive_text)"
   ]
  },
  {
   "cell_type": "markdown",
   "id": "5670229a-fbfb-48e0-9d2a-30435dc44331",
   "metadata": {},
   "source": [
    "Print out the fist 50 words in the positive words list. There are many words still connected with punctuations."
   ]
  },
  {
   "cell_type": "code",
   "execution_count": 27,
   "id": "b8e05d03-8797-46f6-83af-69f7d02a6a22",
   "metadata": {},
   "outputs": [
    {
     "data": {
      "text/plain": [
       "['not', 'only', 'is', 'this', \"bungle's\", 'most', 'insane', 'release,', 'but', 'it', 'is', 'his', 'most', 'eclectic...elements', 'of', 'sisxties', 'surf', 'rock,', 'speed', 'metal,', 'garage', 'punk,', 'italian', 'mob,', 'chamber,', 'german', 'thrash,', 'polka,', 'funk,', 'techno,', 'jazz,', 'arabian,', 'eighties', 'experimental', 'pop,', 'cartoon,', 'freak', 'theater,', 'ethnic,', 'bmovie', 'soundtrack,', 'and', 'uncategorizable', 'miscellania', 'are', 'seen', 'throughout-ofcourse', 'all', 'jumbled', 'together']"
      ]
     },
     "execution_count": 27,
     "metadata": {},
     "output_type": "execute_result"
    }
   ],
   "source": [
    "positive_words[:50]"
   ]
  },
  {
   "cell_type": "code",
   "execution_count": 28,
   "id": "8cd291c1-cbf4-45c2-9ee6-908ed41ad918",
   "metadata": {},
   "outputs": [],
   "source": [
    "pos_words = []\n",
    "\n",
    "for positive_word in positive_words:\n",
    "    #Remove punctuations that may be still connected with the words.\n",
    "    positive_word = positive_word.strip(string.punctuation)\n",
    "    \n",
    "    #Remove stop words and punctuations.\n",
    "    if positive_word not in stop_words:\n",
    "        pos_words.append(positive_word)"
   ]
  },
  {
   "cell_type": "code",
   "execution_count": 29,
   "id": "311eeb7b-7dd3-4f47-a86f-6c167174141d",
   "metadata": {},
   "outputs": [
    {
     "name": "stdout",
     "output_type": "stream",
     "text": [
      "Number of positive words BEFORE removing stop words and puntuation: 1197737\n",
      "Number of positive words AFTER removing stop words and puntuation: 656486\n"
     ]
    }
   ],
   "source": [
    "print(\"Number of positive words BEFORE removing stop words and puntuation:\", len(positive_words))\n",
    "print(\"Number of positive words AFTER removing stop words and puntuation:\", len(pos_words))"
   ]
  },
  {
   "cell_type": "markdown",
   "id": "c67de2f9-538c-4e05-998f-a4deb1a13205",
   "metadata": {},
   "source": [
    "View the most 50 common positive words."
   ]
  },
  {
   "cell_type": "code",
   "execution_count": 30,
   "id": "c3a4b8a7-1491-4803-b0d5-19cbc2f7416f",
   "metadata": {},
   "outputs": [
    {
     "data": {
      "text/plain": [
       "[('album', 12763), ('one', 6576), ('song', 6442), ('', 6074), ('like', 5734), ('songs', 5255), ('great', 4320), ('music', 4111), ('good', 3691), ('best', 3578), ('cd', 3502), ('love', 3113), ('track', 2668), ('first', 2650), ('time', 2594), ('really', 2431), ('get', 2276), ('still', 2194), ('sound', 2049), ('tracks', 2031), ('albums', 2009), ('would', 1991), ('also', 1990), ('well', 1990), ('even', 1912), ('rock', 1851), ('band', 1838), ('new', 1789), ('much', 1773), ('lyrics', 1700), ('way', 1658), ('back', 1655), ('better', 1537), ('classic', 1522), ('another', 1508), ('many', 1484), ('years', 1339), ('two', 1337), ('ever', 1328), ('think', 1324), ('listen', 1296), ('make', 1256), ('never', 1240), (\"i'm\", 1217), ('pop', 1216), ('know', 1207), ('heard', 1190), ('sounds', 1187), ('could', 1182), ('say', 1168)]"
      ]
     },
     "execution_count": 30,
     "metadata": {},
     "output_type": "execute_result"
    }
   ],
   "source": [
    "positive_word_frequency = nltk.FreqDist(pos_words)\n",
    "positive_word_frequency.most_common(50)"
   ]
  },
  {
   "cell_type": "markdown",
   "id": "33b6f8a9-86ff-40a7-b86e-82fab843632e",
   "metadata": {},
   "source": [
    "Create the Negative bag-of-words similarly to creating the Positive bag-of-words."
   ]
  },
  {
   "cell_type": "code",
   "execution_count": 31,
   "id": "0892ec24-4686-4840-ba50-9f32d84ae583",
   "metadata": {},
   "outputs": [],
   "source": [
    "negative_reviews = train_dataset_negative['reviewText'].tolist()\n",
    "\n",
    "negative_text = str()\n",
    "for negative_review in negative_reviews:\n",
    "    negative_review = str(negative_review)\n",
    "    negative_review = negative_review.lower()\n",
    "    negative_text = ' '.join([negative_text, negative_review])\n",
    "    \n",
    "negative_words = WhitespaceTokenizer().tokenize(negative_text)\n",
    "    \n",
    "neg_words = []\n",
    "for negative_word in negative_words:\n",
    "    negative_word = negative_word.strip(string.punctuation)\n",
    "    if negative_word not in stop_words:\n",
    "        neg_words.append(negative_word)"
   ]
  },
  {
   "cell_type": "code",
   "execution_count": 32,
   "id": "89abd217-d642-476d-b4c8-6b6213dc6b9b",
   "metadata": {},
   "outputs": [
    {
     "data": {
      "text/plain": [
       "[('album', 9085), ('like', 6279), ('songs', 3980), ('one', 3912), ('', 3641), ('song', 3638), ('good', 3331), ('music', 3069), ('cd', 2757), ('really', 2377), ('even', 2353), ('get', 2339), ('would', 1860), ('much', 1829), ('better', 1665), ('first', 1635), ('time', 1610), ('sound', 1560), ('bad', 1457), (\"i'm\", 1440), ('great', 1408), ('know', 1406), ('lyrics', 1406), ('best', 1402), ('tracks', 1383), ('think', 1332), ('albums', 1320), ('new', 1313), ('track', 1300), ('make', 1288), ('say', 1274), ('band', 1253), ('way', 1252), ('people', 1235), ('rap', 1231), ('sounds', 1219), ('love', 1196), ('still', 1155), ('back', 1151), ('well', 1126), ('listen', 1102), ('could', 1087), ('nothing', 1083), ('heard', 1012), ('got', 1003), ('never', 996), ('something', 977), ('two', 968), ('ever', 968), ('buy', 961)]"
      ]
     },
     "execution_count": 32,
     "metadata": {},
     "output_type": "execute_result"
    }
   ],
   "source": [
    "negative_word_frequency = nltk.FreqDist(neg_words)\n",
    "negative_word_frequency.most_common(50)"
   ]
  },
  {
   "cell_type": "code",
   "execution_count": 33,
   "id": "ae65f1c1-301b-4362-9ecd-893713817491",
   "metadata": {},
   "outputs": [
    {
     "name": "stdout",
     "output_type": "stream",
     "text": [
      "Number of Positive word: 656486\n",
      "Number of Negative word: 488205\n"
     ]
    }
   ],
   "source": [
    "print(\"Number of Positive word:\", len(pos_words))\n",
    "print(\"Number of Negative word:\", len(neg_words))"
   ]
  },
  {
   "cell_type": "markdown",
   "id": "b11450b2-44df-4bc7-a3d6-4c28965b8f91",
   "metadata": {},
   "source": [
    "More specifically, we will use Naive Bayes Classifier of nltk library. This classifier requires the inputs have to be in the set format (feature, label). More details can be found in nltk documentation."
   ]
  },
  {
   "cell_type": "markdown",
   "id": "5519199a-5eb1-444b-9043-49189717539b",
   "metadata": {},
   "source": [
    "This function will transform a word in the bag to the required set format (feature, label)."
   ]
  },
  {
   "cell_type": "code",
   "execution_count": 34,
   "id": "2122837a-2f23-4069-9a86-9ab1c8cbc3ef",
   "metadata": {},
   "outputs": [],
   "source": [
    "def word_features(words):\n",
    "    return dict([(word, True) for word in words.split()])"
   ]
  },
  {
   "cell_type": "markdown",
   "id": "b10db018-0ba2-4aa4-b7f6-6ee75ab480ce",
   "metadata": {},
   "source": [
    "Create the list of (feature, label) sets for the positive and negative bag-of-words."
   ]
  },
  {
   "cell_type": "code",
   "execution_count": 35,
   "id": "aad4c30e-023f-4bd4-b086-916034a08ec1",
   "metadata": {
    "tags": []
   },
   "outputs": [],
   "source": [
    "positive_features = []\n",
    "\n",
    "for pos_word in pos_words:\n",
    "    positive_feature = word_features(pos_word)\n",
    "    positive_feature = (positive_feature, 'positive')\n",
    "    positive_features.append(positive_feature)"
   ]
  },
  {
   "cell_type": "code",
   "execution_count": 36,
   "id": "4caa0c9a-aab8-4811-b441-a5ea294d7216",
   "metadata": {},
   "outputs": [],
   "source": [
    "negative_features = []\n",
    "\n",
    "for neg_word in neg_words:\n",
    "    negative_feature = word_features(neg_word)\n",
    "    negative_feature = (negative_feature, 'negative')\n",
    "    negative_features.append(negative_feature)"
   ]
  },
  {
   "cell_type": "markdown",
   "id": "711b2bf7-1262-48be-8cdd-a7160507b09b",
   "metadata": {},
   "source": [
    "Final format of the positive and negative bag-of-words."
   ]
  },
  {
   "cell_type": "code",
   "execution_count": 37,
   "id": "db48b7d1-0685-41a8-81c1-821400622f64",
   "metadata": {},
   "outputs": [
    {
     "data": {
      "text/plain": [
       "[({\"bungle's\": True}, 'positive'), ({'insane': True}, 'positive'), ({'release': True}, 'positive'), ({'eclectic...elements': True}, 'positive'), ({'sisxties': True}, 'positive'), ({'surf': True}, 'positive'), ({'rock': True}, 'positive'), ({'speed': True}, 'positive'), ({'metal': True}, 'positive'), ({'garage': True}, 'positive')]"
      ]
     },
     "execution_count": 37,
     "metadata": {},
     "output_type": "execute_result"
    }
   ],
   "source": [
    "positive_features[:10]"
   ]
  },
  {
   "cell_type": "code",
   "execution_count": 38,
   "id": "bf3cbc5c-fc38-4c93-aed1-f0d71b4e33a9",
   "metadata": {},
   "outputs": [
    {
     "data": {
      "text/plain": [
       "[({'cd': True}, 'negative'), ({'boring': True}, 'negative'), ({'somewhat': True}, 'negative'), ({'original': True}, 'negative'), ({'boring': True}, 'negative'), ({'good': True}, 'negative'), ({'song': True}, 'negative'), ({'glamorous': True}, 'negative'), ({'life': True}, 'negative'), ({'downloaded': True}, 'negative')]"
      ]
     },
     "execution_count": 38,
     "metadata": {},
     "output_type": "execute_result"
    }
   ],
   "source": [
    "negative_features[:10]"
   ]
  },
  {
   "cell_type": "markdown",
   "id": "0701fe7b-f690-4310-b9ca-b83733d1b46b",
   "metadata": {},
   "source": [
    "Combine the positive and negative bag-of-words into one big bag then shuffle all the words inside."
   ]
  },
  {
   "cell_type": "code",
   "execution_count": 39,
   "id": "95447fdb-1dc3-4d02-831a-f99c0de40524",
   "metadata": {},
   "outputs": [],
   "source": [
    "feature_label_pairs = positive_features + negative_features\n",
    "random.shuffle(feature_label_pairs)"
   ]
  },
  {
   "cell_type": "markdown",
   "id": "fb9a1715-9c3d-4f85-88c8-ad382662a6ea",
   "metadata": {},
   "source": [
    "Split \"the big bag\" into train and test dataset with the .8 training split ratio."
   ]
  },
  {
   "cell_type": "code",
   "execution_count": 40,
   "id": "51a14322-10f4-457c-aa25-375e50651ea5",
   "metadata": {},
   "outputs": [],
   "source": [
    "train_ratio = 0.8\n",
    "split_point = int(len(feature_label_pairs)*train_ratio)\n",
    "train_set, test_set = feature_label_pairs[:split_point], feature_label_pairs[split_point:]"
   ]
  },
  {
   "cell_type": "markdown",
   "id": "4478aa71-c0b6-483b-971f-03fb566c9ebc",
   "metadata": {},
   "source": [
    "Train and test the model. Accuracy is used to evaluated model's performance."
   ]
  },
  {
   "cell_type": "code",
   "execution_count": 41,
   "id": "aba39350-5289-4fa9-a4c8-2b179a7d2603",
   "metadata": {},
   "outputs": [
    {
     "name": "stdout",
     "output_type": "stream",
     "text": [
      "Accuracy rate of Naive Bayes Classification model: 62.13%\n"
     ]
    }
   ],
   "source": [
    "classifier = nltk.NaiveBayesClassifier.train(train_set)\n",
    "\n",
    "accuracy = nltk.classify.accuracy(classifier, test_set)\n",
    "accuracy = round(accuracy*100, 2)\n",
    "print(f\"Accuracy rate of Naive Bayes Classification model: {accuracy}%\")"
   ]
  }
 ],
 "metadata": {
  "kernelspec": {
   "display_name": "Python 3 (ipykernel)",
   "language": "python",
   "name": "python3"
  },
  "language_info": {
   "codemirror_mode": {
    "name": "ipython",
    "version": 3
   },
   "file_extension": ".py",
   "mimetype": "text/x-python",
   "name": "python",
   "nbconvert_exporter": "python",
   "pygments_lexer": "ipython3",
   "version": "3.8.12"
  }
 },
 "nbformat": 4,
 "nbformat_minor": 5
}
